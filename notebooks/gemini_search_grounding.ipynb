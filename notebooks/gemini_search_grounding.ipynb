{
 "cells": [
  {
   "cell_type": "markdown",
   "id": "d18c4fef-1dd9-48ed-ac4e-bc5e75350c8e",
   "metadata": {},
   "source": [
    "### Grounding Gemini Pro with Google Search\n",
    "This notebook provides a step-by-step guide on how to ground Gemini Pro with Google Search using the Python client library. Grounding LLMs with external knowledge sources can enhance their factual accuracy and ability to answer real-world questions. Grounding with Google Search allows you to connect the model with world knowledge, a wide possible range of topics, and up-to-date information on the internet.\n",
    "\n",
    "**NOTE:** This notebook requires you to have a Google Cloud project and uses Google Cloud resources. If you are not running this lab in a Vertex AI Workbench Notebook, you need to set up the proper permissions to access these resources. Help can be found [here](https://cloud.google.com/docs/authentication/provide-credentials-adc).\n",
    "\n",
    "\n",
    "**PRIVATE PREVIEW**: (developed April 18 2024) Grounding with Google Search is still in Private Preview and only available via opt-in. To opt-in to the Private Preview, you must submit this [form](https://docs.google.com/forms/d/e/1FAIpQLSfj7SJNAqXOe7vB9Re-WtwJedTWjHkBKZ6OHaLoGoXRG93ymg/viewform). Upon submission you will likely have access within 1 business day. While grounding with Google Search remains in Private Preview, this notebook will not work as intended until your Google Cloud project has access to the feature. The official documentation for Grounding with Google Search and any updates on pre-release status can be found [here](https://cloud.google.com/vertex-ai/generative-ai/docs/grounding/overview#ground-public)."
   ]
  },
  {
   "cell_type": "markdown",
   "id": "ea7b7bb9-716d-4ddb-be83-62e95d7e1c81",
   "metadata": {
    "tags": []
   },
   "source": [
    "#### Setup \n",
    "Install the neccessary dependencies "
   ]
  },
  {
   "cell_type": "code",
   "execution_count": null,
   "id": "dbd1b462-8aed-47d0-acd2-fcaad8634560",
   "metadata": {
    "tags": []
   },
   "outputs": [],
   "source": [
    "!pip3 install --user \\\n",
    "    google-cloud-aiplatform==1.48.0"
   ]
  },
  {
   "cell_type": "markdown",
   "id": "cc252917-1464-4438-85f5-fcaefd41a7f6",
   "metadata": {},
   "source": [
    "Be sure to **restart kernel** after dependencies are install before moving forward in the notebook"
   ]
  },
  {
   "cell_type": "code",
   "execution_count": 1,
   "id": "4c343ef4-d763-4483-acf8-9cb69a1a14c8",
   "metadata": {
    "tags": []
   },
   "outputs": [],
   "source": [
    "import vertexai \n",
    "from vertexai.preview.generative_models import (\n",
    "    GenerativeModel,\n",
    "    Tool,\n",
    "    grounding\n",
    ")"
   ]
  },
  {
   "cell_type": "code",
   "execution_count": 2,
   "id": "91ddce0b-d1f5-413e-b1ad-ec1be60022fb",
   "metadata": {
    "tags": []
   },
   "outputs": [],
   "source": [
    "model = GenerativeModel(model_name=\"gemini-1.0-pro\")"
   ]
  },
  {
   "cell_type": "markdown",
   "id": "c83882f9-7242-42c6-acfe-aea667a95376",
   "metadata": {},
   "source": [
    "#### Without Google Search Grounding \n",
    "Send a prompt through the model without Google Search grounding. Without Google Search grounding, the model will not have access to up-to-date information on the internet. "
   ]
  },
  {
   "cell_type": "code",
   "execution_count": 3,
   "id": "d78d8612-d0bd-4acb-96d7-101c90879284",
   "metadata": {
    "tags": []
   },
   "outputs": [
    {
     "data": {
      "text/plain": [
       "candidates {\n",
       "  content {\n",
       "    role: \"model\"\n",
       "    parts {\n",
       "      text: \"I do not have access to real-time information, including the current weather in NYC. To get the most up-to-date weather forecast, I recommend checking a reliable weather source such as the National Weather Service or a local news station. \\n\\nIs there anything else I can help you with today?\"\n",
       "    }\n",
       "  }\n",
       "  finish_reason: STOP\n",
       "  safety_ratings {\n",
       "    category: HARM_CATEGORY_HATE_SPEECH\n",
       "    probability: NEGLIGIBLE\n",
       "    probability_score: 0.01342825498431921\n",
       "    severity: HARM_SEVERITY_NEGLIGIBLE\n",
       "    severity_score: 0.02203226462006569\n",
       "  }\n",
       "  safety_ratings {\n",
       "    category: HARM_CATEGORY_DANGEROUS_CONTENT\n",
       "    probability: NEGLIGIBLE\n",
       "    probability_score: 0.023554330691695213\n",
       "    severity: HARM_SEVERITY_NEGLIGIBLE\n",
       "    severity_score: 0.016979992389678955\n",
       "  }\n",
       "  safety_ratings {\n",
       "    category: HARM_CATEGORY_HARASSMENT\n",
       "    probability: NEGLIGIBLE\n",
       "    probability_score: 0.04296247661113739\n",
       "    severity: HARM_SEVERITY_NEGLIGIBLE\n",
       "    severity_score: 0.017176708206534386\n",
       "  }\n",
       "  safety_ratings {\n",
       "    category: HARM_CATEGORY_SEXUALLY_EXPLICIT\n",
       "    probability: NEGLIGIBLE\n",
       "    probability_score: 0.05717659741640091\n",
       "    severity: HARM_SEVERITY_NEGLIGIBLE\n",
       "    severity_score: 0.07613247632980347\n",
       "  }\n",
       "}\n",
       "usage_metadata {\n",
       "  prompt_token_count: 10\n",
       "  candidates_token_count: 62\n",
       "  total_token_count: 72\n",
       "}"
      ]
     },
     "execution_count": 3,
     "metadata": {},
     "output_type": "execute_result"
    }
   ],
   "source": [
    "model.generate_content(\"What is the weather like in NYC right now?\")"
   ]
  },
  {
   "cell_type": "markdown",
   "id": "7f48098b-57d6-4a94-ae0c-6aadee7d02b2",
   "metadata": {},
   "source": [
    "#### With Google Search Grounding \n",
    "With Google Search grounding, the model will be grounded in information from Google Search. The Python client library makes this incredibly easy - with just one additional line of code, we can ground Gemini with the entire knowledge of the internet! \n",
    "\n",
    "**Note** If you get an `_InactiveRpcError` from the cell below, it is likely because your project has not been added to the private preview yet. Be sure to fill out the form and wait at least one full business day."
   ]
  },
  {
   "cell_type": "code",
   "execution_count": 4,
   "id": "a91cd2ab-1f8b-4ee1-95e9-36496fae1066",
   "metadata": {
    "tags": []
   },
   "outputs": [
    {
     "data": {
      "text/plain": [
       "candidates {\n",
       "  content {\n",
       "    role: \"model\"\n",
       "    parts {\n",
       "      text: \"The weather in New York City right now is cloudy with a high of around 55 degrees Fahrenheit. There is a 1% chance of rain in the afternoon and evening. The wind is coming out of the east at 5-10 mph.\"\n",
       "    }\n",
       "  }\n",
       "  finish_reason: STOP\n",
       "  safety_ratings {\n",
       "    category: HARM_CATEGORY_HATE_SPEECH\n",
       "    probability: NEGLIGIBLE\n",
       "    probability_score: 0.017917344346642494\n",
       "    severity: HARM_SEVERITY_NEGLIGIBLE\n",
       "    severity_score: 0.04288224130868912\n",
       "  }\n",
       "  safety_ratings {\n",
       "    category: HARM_CATEGORY_DANGEROUS_CONTENT\n",
       "    probability: NEGLIGIBLE\n",
       "    probability_score: 0.0960254892706871\n",
       "    severity: HARM_SEVERITY_NEGLIGIBLE\n",
       "    severity_score: 0.04240382835268974\n",
       "  }\n",
       "  safety_ratings {\n",
       "    category: HARM_CATEGORY_HARASSMENT\n",
       "    probability: NEGLIGIBLE\n",
       "    probability_score: 0.10123348236083984\n",
       "    severity: HARM_SEVERITY_NEGLIGIBLE\n",
       "    severity_score: 0.022328782826662064\n",
       "  }\n",
       "  safety_ratings {\n",
       "    category: HARM_CATEGORY_SEXUALLY_EXPLICIT\n",
       "    probability: NEGLIGIBLE\n",
       "    probability_score: 0.08240151405334473\n",
       "    severity: HARM_SEVERITY_NEGLIGIBLE\n",
       "    severity_score: 0.13432104885578156\n",
       "  }\n",
       "  grounding_metadata {\n",
       "    web_search_queries: \"What is the weather like in NYC right now?\"\n",
       "  }\n",
       "}\n",
       "usage_metadata {\n",
       "  prompt_token_count: 10\n",
       "  candidates_token_count: 52\n",
       "  total_token_count: 62\n",
       "}"
      ]
     },
     "execution_count": 4,
     "metadata": {},
     "output_type": "execute_result"
    }
   ],
   "source": [
    "tool = Tool.from_google_search_retrieval(grounding.GoogleSearchRetrieval())\n",
    "model.generate_content(\"What is the weather like in NYC right now?\", tools=[tool])"
   ]
  },
  {
   "cell_type": "markdown",
   "id": "b53b3df6-53fd-44c0-8233-5f5ad62de6bf",
   "metadata": {},
   "source": [
    "It's as simple as that! Gemini grounded with Google Search is a game-changer for two major reasons. \n",
    "* It provides real-time access to Google's vast information index, ensuring responses are always up-to-date and relevant. \n",
    "* Grounding significantly reduces the likelihood of AI \"hallucinations\". By providing citations and sourcing information directly from Google Search, Gemini builds trust and transparency in its responses."
   ]
  },
  {
   "cell_type": "code",
   "execution_count": null,
   "id": "9e95fbeb-a837-43fc-aad0-de33c09f75f5",
   "metadata": {},
   "outputs": [],
   "source": []
  }
 ],
 "metadata": {
  "environment": {
   "kernel": "python3",
   "name": "tf2-gpu.2-14.m119",
   "type": "gcloud",
   "uri": "us-docker.pkg.dev/deeplearning-platform-release/gcr.io/tf2-gpu.2-14:m119"
  },
  "kernelspec": {
   "display_name": "Python 3 (Local)",
   "language": "python",
   "name": "python3"
  },
  "language_info": {
   "codemirror_mode": {
    "name": "ipython",
    "version": 3
   },
   "file_extension": ".py",
   "mimetype": "text/x-python",
   "name": "python",
   "nbconvert_exporter": "python",
   "pygments_lexer": "ipython3",
   "version": "3.10.14"
  }
 },
 "nbformat": 4,
 "nbformat_minor": 5
}
